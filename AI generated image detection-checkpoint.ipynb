{
 "cells": [
  {
   "cell_type": "code",
   "execution_count": 1,
   "id": "1773e1a6-ab11-4ef2-be15-1c2f5e9d4c96",
   "metadata": {},
   "outputs": [],
   "source": [
    "import tensorflow as tf"
   ]
  },
  {
   "cell_type": "code",
   "execution_count": 44,
   "id": "ab4d89ba-072a-45a4-a301-85a810a85fbd",
   "metadata": {},
   "outputs": [],
   "source": [
    "import matplotlib.pyplot as plt\n",
    "import numpy as np\n",
    "import PIL.Image as image\n",
    "import cv2\n",
    "import os\n",
    "from tensorflow import keras\n",
    "from tensorflow.keras import layers"
   ]
  },
  {
   "cell_type": "code",
   "execution_count": 4,
   "id": "dd198aae-f7be-429c-909d-1aed39c9dc7c",
   "metadata": {},
   "outputs": [],
   "source": [
    "import pathlib"
   ]
  },
  {
   "cell_type": "code",
   "execution_count": 6,
   "id": "791f2c77-a354-4790-b8d7-72db30031b9c",
   "metadata": {},
   "outputs": [],
   "source": [
    "data_dir=r\"C:\\Users\\H P\\cifake\""
   ]
  },
  {
   "cell_type": "code",
   "execution_count": 7,
   "id": "fda22f4c-30e4-408d-abe8-284dbf596769",
   "metadata": {},
   "outputs": [
    {
     "data": {
      "text/plain": [
       "WindowsPath('C:/Users/H P/cifake')"
      ]
     },
     "execution_count": 7,
     "metadata": {},
     "output_type": "execute_result"
    }
   ],
   "source": [
    "data_dir=pathlib.Path(data_dir)\n",
    "data_dir"
   ]
  },
  {
   "cell_type": "code",
   "execution_count": 10,
   "id": "5c6698f2-6aef-4153-98d2-f759d02c52e1",
   "metadata": {},
   "outputs": [
    {
     "data": {
      "text/plain": [
       "[WindowsPath('C:/Users/H P/cifake/train/FAKE/1000 (10).jpg'),\n",
       " WindowsPath('C:/Users/H P/cifake/train/FAKE/1000 (2).jpg'),\n",
       " WindowsPath('C:/Users/H P/cifake/train/FAKE/1000 (3).jpg'),\n",
       " WindowsPath('C:/Users/H P/cifake/train/FAKE/1000 (4).jpg'),\n",
       " WindowsPath('C:/Users/H P/cifake/train/FAKE/1000 (5).jpg')]"
      ]
     },
     "execution_count": 10,
     "metadata": {},
     "output_type": "execute_result"
    }
   ],
   "source": [
    "list(data_dir.glob('train/*/*'))[:5]"
   ]
  },
  {
   "cell_type": "code",
   "execution_count": 37,
   "id": "bd2153bb-5d38-4701-8169-711750453cc3",
   "metadata": {},
   "outputs": [],
   "source": [
    "train_images_dict={\n",
    "    'train_fake' : list(data_dir.glob('train/FAKE/*'))[:1500],\n",
    "    'train_real' : list(data_dir.glob('train/REAL/*'))[:1500]\n",
    "}"
   ]
  },
  {
   "cell_type": "code",
   "execution_count": 38,
   "id": "2546634b-4ec6-4925-b504-9eb18d25efc4",
   "metadata": {},
   "outputs": [],
   "source": [
    "train_images_label_dict={\n",
    "    'train_fake' : 0,\n",
    "    'train_real' : 1,\n",
    "}"
   ]
  },
  {
   "cell_type": "code",
   "execution_count": 39,
   "id": "f83742ea-3d0d-4632-885b-56cc4799474e",
   "metadata": {},
   "outputs": [
    {
     "data": {
      "text/plain": [
       "WindowsPath('C:/Users/H P/cifake/train/FAKE/1000 (10).jpg')"
      ]
     },
     "execution_count": 39,
     "metadata": {},
     "output_type": "execute_result"
    }
   ],
   "source": [
    "train_images_dict['train_fake'][0]"
   ]
  },
  {
   "cell_type": "code",
   "execution_count": 40,
   "id": "526d24f9-d594-4e43-8727-5be621ddf212",
   "metadata": {},
   "outputs": [
    {
     "data": {
      "text/plain": [
       "(32, 32, 3)"
      ]
     },
     "execution_count": 40,
     "metadata": {},
     "output_type": "execute_result"
    }
   ],
   "source": [
    "img=cv2.imread(str(train_images_dict['train_fake'][0]))\n",
    "img.shape"
   ]
  },
  {
   "cell_type": "code",
   "execution_count": 41,
   "id": "509c463b-ca7a-407d-9410-25452c45d115",
   "metadata": {},
   "outputs": [],
   "source": [
    "x_train,y_train=[],[]\n",
    "for label,images in train_images_dict.items():\n",
    "    for image in images:\n",
    "        img=cv2.imread(str(image))\n",
    "        resized_img=cv2.resize(img,(180,180))\n",
    "        x_train.append(resized_img)\n",
    "        y_train.append(train_images_label_dict[label])"
   ]
  },
  {
   "cell_type": "code",
   "execution_count": 42,
   "id": "1544071d-0040-4427-ad3c-d6c20dd56d0b",
   "metadata": {},
   "outputs": [],
   "source": [
    "x_train=np.array(x_train)/255\n",
    "y_train=np.array(y_train)"
   ]
  },
  {
   "cell_type": "code",
   "execution_count": 60,
   "id": "eb05889c-4a30-4e3a-bb39-721b6593b9f3",
   "metadata": {},
   "outputs": [
    {
     "data": {
      "text/plain": [
       "(3000,)"
      ]
     },
     "execution_count": 60,
     "metadata": {},
     "output_type": "execute_result"
    }
   ],
   "source": [
    "y_train.shape"
   ]
  },
  {
   "cell_type": "code",
   "execution_count": 58,
   "id": "944be675-7744-4c92-b400-2bbaa58eeca9",
   "metadata": {},
   "outputs": [],
   "source": [
    "cnn=keras.Sequential([\n",
    "    layers.Conv2D(filters=32,kernel_size=(3,3),activation='relu',input_shape=(180,180,3)),\n",
    "    layers.MaxPooling2D((2,2)),\n",
    "    layers.Conv2D(filters=32,kernel_size=(3,3),activation='relu'),\n",
    "    layers.MaxPooling2D((2,2)),\n",
    "    layers.Flatten(),\n",
    "    layers.Dense(64,activation='relu'),\n",
    "    layers.Dense(1,activation='sigmoid')\n",
    "])"
   ]
  },
  {
   "cell_type": "code",
   "execution_count": 59,
   "id": "7824649e-65e5-4a1e-afa8-526c625d22a3",
   "metadata": {},
   "outputs": [],
   "source": [
    "cnn.compile(\n",
    "        optimizer='adam',\n",
    "        loss='binary_crossentropy',\n",
    "        metrics=['accuracy'])"
   ]
  },
  {
   "cell_type": "code",
   "execution_count": 61,
   "id": "c265c2ee-a845-4dc6-b47c-e0b1f69c1455",
   "metadata": {},
   "outputs": [
    {
     "name": "stdout",
     "output_type": "stream",
     "text": [
      "Epoch 1/10\n",
      "\u001b[1m94/94\u001b[0m \u001b[32m━━━━━━━━━━━━━━━━━━━━\u001b[0m\u001b[37m\u001b[0m \u001b[1m73s\u001b[0m 637ms/step - accuracy: 0.5453 - loss: 0.7543\n",
      "Epoch 2/10\n",
      "\u001b[1m94/94\u001b[0m \u001b[32m━━━━━━━━━━━━━━━━━━━━\u001b[0m\u001b[37m\u001b[0m \u001b[1m43s\u001b[0m 458ms/step - accuracy: 0.7285 - loss: 0.5765\n",
      "Epoch 3/10\n",
      "\u001b[1m94/94\u001b[0m \u001b[32m━━━━━━━━━━━━━━━━━━━━\u001b[0m\u001b[37m\u001b[0m \u001b[1m61s\u001b[0m 647ms/step - accuracy: 0.7779 - loss: 0.4935 \n",
      "Epoch 4/10\n",
      "\u001b[1m94/94\u001b[0m \u001b[32m━━━━━━━━━━━━━━━━━━━━\u001b[0m\u001b[37m\u001b[0m \u001b[1m61s\u001b[0m 639ms/step - accuracy: 0.7902 - loss: 0.4779 \n",
      "Epoch 5/10\n",
      "\u001b[1m94/94\u001b[0m \u001b[32m━━━━━━━━━━━━━━━━━━━━\u001b[0m\u001b[37m\u001b[0m \u001b[1m76s\u001b[0m 803ms/step - accuracy: 0.8314 - loss: 0.4132 \n",
      "Epoch 6/10\n",
      "\u001b[1m94/94\u001b[0m \u001b[32m━━━━━━━━━━━━━━━━━━━━\u001b[0m\u001b[37m\u001b[0m \u001b[1m64s\u001b[0m 675ms/step - accuracy: 0.8628 - loss: 0.3290 \n",
      "Epoch 7/10\n",
      "\u001b[1m94/94\u001b[0m \u001b[32m━━━━━━━━━━━━━━━━━━━━\u001b[0m\u001b[37m\u001b[0m \u001b[1m63s\u001b[0m 665ms/step - accuracy: 0.8875 - loss: 0.2844\n",
      "Epoch 8/10\n",
      "\u001b[1m94/94\u001b[0m \u001b[32m━━━━━━━━━━━━━━━━━━━━\u001b[0m\u001b[37m\u001b[0m \u001b[1m58s\u001b[0m 614ms/step - accuracy: 0.8989 - loss: 0.2460\n",
      "Epoch 9/10\n",
      "\u001b[1m94/94\u001b[0m \u001b[32m━━━━━━━━━━━━━━━━━━━━\u001b[0m\u001b[37m\u001b[0m \u001b[1m84s\u001b[0m 635ms/step - accuracy: 0.9242 - loss: 0.1926\n",
      "Epoch 10/10\n",
      "\u001b[1m94/94\u001b[0m \u001b[32m━━━━━━━━━━━━━━━━━━━━\u001b[0m\u001b[37m\u001b[0m \u001b[1m55s\u001b[0m 568ms/step - accuracy: 0.9376 - loss: 0.1688\n"
     ]
    },
    {
     "data": {
      "text/plain": [
       "<keras.src.callbacks.history.History at 0x2b4e92adc70>"
      ]
     },
     "execution_count": 61,
     "metadata": {},
     "output_type": "execute_result"
    }
   ],
   "source": [
    "cnn.fit(x_train,y_train,epochs=10)"
   ]
  },
  {
   "cell_type": "code",
   "execution_count": 62,
   "id": "952614f6-5edc-4acb-a42d-76bebe2a449c",
   "metadata": {},
   "outputs": [],
   "source": [
    "test_images_dict={\n",
    "    'test_fake' : list(data_dir.glob('test/FAKE/*'))[:500],\n",
    "    'test_real' : list(data_dir.glob('test/REAL/*'))[:500]\n",
    "}"
   ]
  },
  {
   "cell_type": "code",
   "execution_count": 63,
   "id": "8cba4b59-7b26-4a23-b25d-c4abe3ca54a5",
   "metadata": {},
   "outputs": [],
   "source": [
    "test_images_label_dict={\n",
    "    'test_fake' : 0,\n",
    "    'test_real' : 1\n",
    "}"
   ]
  },
  {
   "cell_type": "code",
   "execution_count": 64,
   "id": "51dd5540-5045-4a78-91f7-84b32a9c5969",
   "metadata": {},
   "outputs": [],
   "source": [
    "x_test,y_test=[],[]\n",
    "for label,images in test_images_dict.items():\n",
    "    for image in images:\n",
    "        img=cv2.imread(str(image))\n",
    "        resized_img=cv2.resize(img,(180,180))\n",
    "        x_test.append(resized_img)\n",
    "        y_test.append(test_images_label_dict[label])"
   ]
  },
  {
   "cell_type": "code",
   "execution_count": 65,
   "id": "d7fe0df9-854b-4470-8118-fe251c77bbe9",
   "metadata": {},
   "outputs": [],
   "source": [
    "x_test=np.array(x_test)/255\n",
    "y_test=np.array(y_test)"
   ]
  },
  {
   "cell_type": "code",
   "execution_count": 67,
   "id": "3b0539ee-e7ee-43cf-8cc8-090ae496f9a3",
   "metadata": {},
   "outputs": [
    {
     "data": {
      "text/plain": [
       "(1000, 180, 180, 3)"
      ]
     },
     "execution_count": 67,
     "metadata": {},
     "output_type": "execute_result"
    }
   ],
   "source": [
    "x_test.shape"
   ]
  },
  {
   "cell_type": "code",
   "execution_count": 68,
   "id": "7cf9d966-5845-4972-ad8e-790b581a4a6f",
   "metadata": {},
   "outputs": [
    {
     "name": "stdout",
     "output_type": "stream",
     "text": [
      "\u001b[1m32/32\u001b[0m \u001b[32m━━━━━━━━━━━━━━━━━━━━\u001b[0m\u001b[37m\u001b[0m \u001b[1m3s\u001b[0m 64ms/step - accuracy: 0.7510 - loss: 0.7579 \n"
     ]
    },
    {
     "data": {
      "text/plain": [
       "[0.6895087957382202, 0.7770000100135803]"
      ]
     },
     "execution_count": 68,
     "metadata": {},
     "output_type": "execute_result"
    }
   ],
   "source": [
    "cnn.evaluate(x_test,y_test)"
   ]
  }
 ],
 "metadata": {
  "kernelspec": {
   "display_name": "Python [conda env:base] *",
   "language": "python",
   "name": "conda-base-py"
  },
  "language_info": {
   "codemirror_mode": {
    "name": "ipython",
    "version": 3
   },
   "file_extension": ".py",
   "mimetype": "text/x-python",
   "name": "python",
   "nbconvert_exporter": "python",
   "pygments_lexer": "ipython3",
   "version": "3.12.7"
  }
 },
 "nbformat": 4,
 "nbformat_minor": 5
}
